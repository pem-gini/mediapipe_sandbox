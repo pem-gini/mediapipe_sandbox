{
  "cells": [
    {
      "cell_type": "markdown",
      "metadata": {
        "id": "h2q27gKz1H20"
      },
      "source": [
        "##### Copyright 2023 The MediaPipe Authors. All Rights Reserved."
      ]
    },
    {
      "cell_type": "code",
      "execution_count": null,
      "metadata": {
        "cellView": "form",
        "id": "TUfAcER1oUS6"
      },
      "outputs": [],
      "source": [
        "#@title Licensed under the Apache License, Version 2.0 (the \"License\");\n",
        "# you may not use this file except in compliance with the License.\n",
        "# You may obtain a copy of the License at\n",
        "#\n",
        "# https://www.apache.org/licenses/LICENSE-2.0\n",
        "#\n",
        "# Unless required by applicable law or agreed to in writing, software\n",
        "# distributed under the License is distributed on an \"AS IS\" BASIS,\n",
        "# WITHOUT WARRANTIES OR CONDITIONS OF ANY KIND, either express or implied.\n",
        "# See the License for the specific language governing permissions and\n",
        "# limitations under the License."
      ]
    },
    {
      "cell_type": "markdown",
      "metadata": {
        "id": "L_cQX8dWu4Dv"
      },
      "source": [
        "# Gesture Recognizer with MediaPipe Tasks\n",
        "\n",
        "This notebook shows you how to use MediaPipe Tasks Python API to recognize hand gestures in images."
      ]
    },
    {
      "cell_type": "markdown",
      "metadata": {
        "id": "O6PN9FvIx614"
      },
      "source": [
        "## Preparation\n",
        "\n",
        "Let's start with installing MediaPipe."
      ]
    },
    {
      "cell_type": "code",
      "execution_count": null,
      "metadata": {
        "colab": {
          "base_uri": "https://localhost:8080/"
        },
        "id": "gxbHBsF-8Y_l",
        "outputId": "f576fa1d-d914-4982-e731-010953de60c9"
      },
      "outputs": [],
      "source": [
        "!pip install -q mediapipe==0.10.0"
      ]
    },
    {
      "cell_type": "markdown",
      "metadata": {
        "id": "a49D7h4TVmru"
      },
      "source": [
        "Then download an off-the-shelf model. This model can recognize 7 hand gestures: 👍, 👎, ✌️, ☝️, ✊, 👋, 🤟\n",
        "\n",
        "Check out the [MediaPipe documentation](https://developers.google.com/mediapipe/solutions/vision/gesture_recognizer#models) for more details about the model."
      ]
    },
    {
      "cell_type": "code",
      "execution_count": null,
      "metadata": {
        "id": "OMjuVQiDYJKF"
      },
      "outputs": [],
      "source": [
        "!wget -q https://storage.googleapis.com/mediapipe-models/gesture_recognizer/gesture_recognizer/float16/1/gesture_recognizer.task"
      ]
    },
    {
      "cell_type": "markdown",
      "metadata": {
        "id": "8W_6sv5-JUdY"
      },
      "source": [
        "## Visualization Utilities"
      ]
    },
    {
      "cell_type": "code",
      "execution_count": null,
      "metadata": {
        "id": "H4aPO-hvbw3r"
      },
      "outputs": [],
      "source": [
        "#@markdown We implemented some functions to visualize the gesture recognition results. <br/> Run the following cell to activate the functions.\n",
        "from matplotlib import pyplot as plt\n",
        "import mediapipe as mp\n",
        "from mediapipe.framework.formats import landmark_pb2\n",
        "\n",
        "plt.rcParams.update({\n",
        "    'axes.spines.top': False,\n",
        "    'axes.spines.right': False,\n",
        "    'axes.spines.left': False,\n",
        "    'axes.spines.bottom': False,\n",
        "    'xtick.labelbottom': False,\n",
        "    'xtick.bottom': False,\n",
        "    'ytick.labelleft': False,\n",
        "    'ytick.left': False,\n",
        "    'xtick.labeltop': False,\n",
        "    'xtick.top': False,\n",
        "    'ytick.labelright': False,\n",
        "    'ytick.right': False\n",
        "})\n",
        "\n",
        "mp_hands = mp.solutions.hands\n",
        "mp_drawing = mp.solutions.drawing_utils\n",
        "mp_drawing_styles = mp.solutions.drawing_styles\n",
        "\n",
        "\n",
        "def display_one_image(image, title, subplot, titlesize=16):\n",
        "    \"\"\"Displays one image along with the predicted category name and score.\"\"\"\n",
        "    plt.subplot(*subplot)\n",
        "    plt.imshow(image)\n",
        "    if len(title) > 0:\n",
        "        plt.title(title, fontsize=int(titlesize), color='black', fontdict={'verticalalignment':'center'}, pad=int(titlesize/1.5))\n",
        "    return (subplot[0], subplot[1], subplot[2]+1)\n",
        "\n",
        "\n",
        "def display_batch_of_images_with_gestures_and_hand_landmarks(images, results):\n",
        "    \"\"\"Displays a batch of images with the gesture category and its score along with the hand landmarks.\"\"\"\n",
        "    # Images and labels.\n",
        "    images = [image.numpy_view() for image in images]\n",
        "    gestures = [top_gesture for (top_gesture, _) in results]\n",
        "    multi_hand_landmarks_list = [multi_hand_landmarks for (_, multi_hand_landmarks) in results]\n",
        "\n",
        "    # Auto-squaring: this will drop data that does not fit into square or square-ish rectangle.\n",
        "    rows = int(math.sqrt(len(images)))\n",
        "    cols = len(images) // rows\n",
        "\n",
        "    # Size and spacing.\n",
        "    FIGSIZE = 13.0\n",
        "    SPACING = 0.1\n",
        "    subplot=(rows,cols, 1)\n",
        "    if rows < cols:\n",
        "        plt.figure(figsize=(FIGSIZE,FIGSIZE/cols*rows))\n",
        "    else:\n",
        "        plt.figure(figsize=(FIGSIZE/rows*cols,FIGSIZE))\n",
        "\n",
        "    # Display gestures and hand landmarks.\n",
        "    for i, (image, gestures) in enumerate(zip(images[:rows*cols], gestures[:rows*cols])):\n",
        "        title = f\"{gestures.category_name} ({gestures.score:.2f})\"\n",
        "        dynamic_titlesize = FIGSIZE*SPACING/max(rows,cols) * 40 + 3\n",
        "        annotated_image = image.copy()\n",
        "\n",
        "        for hand_landmarks in multi_hand_landmarks_list[i]:\n",
        "          hand_landmarks_proto = landmark_pb2.NormalizedLandmarkList()\n",
        "          hand_landmarks_proto.landmark.extend([\n",
        "            landmark_pb2.NormalizedLandmark(x=landmark.x, y=landmark.y, z=landmark.z) for landmark in hand_landmarks\n",
        "          ])\n",
        "\n",
        "          mp_drawing.draw_landmarks(\n",
        "            annotated_image,\n",
        "            hand_landmarks_proto,\n",
        "            mp_hands.HAND_CONNECTIONS,\n",
        "            mp_drawing_styles.get_default_hand_landmarks_style(),\n",
        "            mp_drawing_styles.get_default_hand_connections_style())\n",
        "\n",
        "        subplot = display_one_image(annotated_image, title, subplot, titlesize=dynamic_titlesize)\n",
        "\n",
        "    # Layout.\n",
        "    plt.tight_layout()\n",
        "    plt.subplots_adjust(wspace=SPACING, hspace=SPACING)\n",
        "    plt.show()"
      ]
    },
    {
      "cell_type": "markdown",
      "metadata": {
        "id": "83PEJNp9yPBU"
      },
      "source": [
        "## Download test images\n",
        "\n",
        "Let's grab some test images that we'll use later. The images ([1](https://pixabay.com/photos/idea-pointing-raise-hand-raise-3082824/), [2](https://pixabay.com/photos/thumbs-up-happy-positive-woman-2649310/), [3](https://pixabay.com/photos/epidemic-disease-coronavirus-5082474/), [4](https://pixabay.com/photos/thumbs-down-disapprove-gesture-6744094/)) are from Pixabay."
      ]
    },
    {
      "cell_type": "code",
      "execution_count": null,
      "metadata": {
        "id": "tzXuqyIBlXer"
      },
      "outputs": [],
      "source": [
        "import urllib\n",
        "\n",
        "IMAGE_FILENAMES = ['thumbs_down.jpg', 'victory.jpg', 'thumbs_up.jpg', 'pointing_up.jpg']\n",
        "\n",
        "for name in IMAGE_FILENAMES:\n",
        "  url = f'https://storage.googleapis.com/mediapipe-tasks/gesture_recognizer/{name}'\n",
        "  urllib.request.urlretrieve(url, name)"
      ]
    },
    {
      "cell_type": "markdown",
      "metadata": {
        "id": "XvwwAdKlgpSo"
      },
      "source": [
        "Optionally, you can upload your own image. If you want to do so, uncomment and run the cell below."
      ]
    },
    {
      "cell_type": "code",
      "execution_count": null,
      "metadata": {
        "id": "9cW_V2HvguvE"
      },
      "outputs": [],
      "source": [
        "# from google.colab import files\n",
        "# uploaded = files.upload()\n",
        "\n",
        "# for filename in uploaded:\n",
        "#   content = uploaded[filename]\n",
        "#   with open(filename, 'wb') as f:\n",
        "#     f.write(content)\n",
        "# IMAGE_FILENAMES = list(uploaded.keys())\n",
        "\n",
        "# print('Uploaded files:', IMAGE_FILENAMES)"
      ]
    },
    {
      "cell_type": "markdown",
      "metadata": {
        "id": "P8XRmapjySMN"
      },
      "source": [
        "Then let's check out the images."
      ]
    },
    {
      "cell_type": "code",
      "execution_count": null,
      "metadata": {
        "colab": {
          "base_uri": "https://localhost:8080/",
          "height": 1000
        },
        "id": "8rjHk72-lmHX",
        "outputId": "945cee3b-30fe-436e-85a4-ec240660f1ec"
      },
      "outputs": [],
      "source": [
        "import cv2\n",
        "\n",
        "import math\n",
        "\n",
        "DESIRED_HEIGHT = 480\n",
        "DESIRED_WIDTH = 480\n",
        "\n",
        "def resize_and_show(image):\n",
        "  h, w = image.shape[:2]\n",
        "  if h < w:\n",
        "    img = cv2.resize(image, (DESIRED_WIDTH, math.floor(h/(w/DESIRED_WIDTH))))\n",
        "  else:\n",
        "    img = cv2.resize(image, (math.floor(w/(h/DESIRED_HEIGHT)), DESIRED_HEIGHT))\n",
        "  cv2.imshow(\"test\", img)\n",
        "  cv2.waitKey(0)\n",
        "  cv2.destroyAllWindows()\n",
        "\n",
        "# Preview the images.\n",
        "images = {name: cv2.imread(name) for name in IMAGE_FILENAMES}\n",
        "for name, image in images.items():\n",
        "  print(name)\n",
        "  resize_and_show(image)"
      ]
    },
    {
      "cell_type": "markdown",
      "metadata": {
        "id": "Iy4r2_ePylIa"
      },
      "source": [
        "## Running inference and visualizing the results\n",
        "\n",
        "Here are the steps to run gesture recognizer using MediaPipe.\n",
        "\n",
        "Check out the [MediaPipe documentation](https://developers.google.com/mediapipe/solutions/vision/gesture_recognizer/python) to learn more about configuration options that this solution supports.\n",
        "\n",
        "*Note: Gesture Recognizer also returns the hand landmark it detects from the image, together with other useful information such as whether the hand(s) detected are left hand or right hand.*"
      ]
    },
    {
      "cell_type": "code",
      "execution_count": null,
      "metadata": {
        "colab": {
          "base_uri": "https://localhost:8080/",
          "height": 1000
        },
        "id": "KHqaswD6M8iO",
        "outputId": "cc5c90af-4438-46d0-c8a9-592008e05672"
      },
      "outputs": [],
      "source": [
        "# STEP 1: Import the necessary modules.\n",
        "import mediapipe as mp\n",
        "from mediapipe.tasks import python\n",
        "from mediapipe.tasks.python import vision\n",
        "\n",
        "# STEP 2: Create an GestureRecognizer object.\n",
        "base_options = python.BaseOptions(model_asset_path='gesture_recognizer.task')\n",
        "options = vision.GestureRecognizerOptions(base_options=base_options)\n",
        "recognizer = vision.GestureRecognizer.create_from_options(options)\n",
        "\n",
        "images = []\n",
        "results = []\n",
        "for image_file_name in IMAGE_FILENAMES:\n",
        "  # STEP 3: Load the input image.\n",
        "  image = mp.Image.create_from_file(image_file_name)\n",
        "  print(image)\n",
        "  # STEP 4: Recognize gestures in the input image.\n",
        "  recognition_result = recognizer.recognize(image)\n",
        "\n",
        "  # STEP 5: Process the result. In this case, visualize it.\n",
        "  images.append(image)\n",
        "  top_gesture = recognition_result.gestures[0][0]\n",
        "  hand_landmarks = recognition_result.hand_landmarks\n",
        "  results.append((top_gesture, hand_landmarks))\n",
        "\n",
        "display_batch_of_images_with_gestures_and_hand_landmarks(images, results)"
      ]
    },
    {
      "cell_type": "markdown",
      "metadata": {},
      "source": [
        "## Video stream hands detection using image api"
      ]
    },
    {
      "cell_type": "code",
      "execution_count": 2,
      "metadata": {},
      "outputs": [],
      "source": [
        "def cropToSmallestSide(image):\n",
        "  img_h, img_w, cannel = image.shape\n",
        "  frame_size = min(img_w, img_h)\n",
        "  crop_w = max((img_w - frame_size) // 2, 0)\n",
        "  # print(\"Cropping on width :\", crop_w)\n",
        "  crop_h = max((img_h - frame_size) // 2, 0)\n",
        "  # print(\"Cropping on height :\", crop_h)\n",
        "  pad_w = max((frame_size - img_w) // 2, 0)\n",
        "  # print(\"Padding on width :\", pad_w)\n",
        "  pad_h = max((frame_size - img_h) // 2, 0)\n",
        "  # print(\"Padding on height :\", pad_h)\n",
        "  new_img_h = new_img_w = frame_size\n",
        "  # print(f\"New Frame working size: {new_img_w}x{new_img_h}\")\n",
        "  ### the .copy is important, as slicing up he image makes it unviable for mp.Image constructor\n",
        "  cropped_image = image[crop_h:img_h-crop_h, crop_w:img_w-crop_w].copy()\n",
        "  return cropped_image\n",
        "\n",
        "def zoom_at(img, zoom, coord=None):\n",
        "    \"\"\"\n",
        "    Simple image zooming without boundary checking.\n",
        "    Centered at \"coord\", if given, else the image center.\n",
        "    img: numpy.ndarray of shape (h,w,:)\n",
        "    zoom: float\n",
        "    coord: (float, float)\n",
        "    \"\"\"\n",
        "    # Translate to zoomed coordinates\n",
        "    h, w, _ = [ zoom * i for i in img.shape ]\n",
        "    if coord is None: cx, cy = w/2, h/2\n",
        "    else: cx, cy = [ zoom*c for c in coord ]\n",
        "    img = cv2.resize( img, (0, 0), fx=zoom, fy=zoom)\n",
        "    zoomedImg = img[ int(round(cy - h/zoom * .5)) : int(round(cy + h/zoom * .5)),\n",
        "               int(round(cx - w/zoom * .5)) : int(round(cx + w/zoom * .5)),\n",
        "               : ].copy()\n",
        "    return zoomedImg"
      ]
    },
    {
      "cell_type": "code",
      "execution_count": 7,
      "metadata": {
        "id": "_JVO3rvPD4RN"
      },
      "outputs": [
        {
          "name": "stderr",
          "output_type": "stream",
          "text": [
            "W20230909 21:02:44.640013 923594 gesture_recognizer_graph.cc:128] Hand Gesture Recognizer contains CPU only ops. Sets HandGestureRecognizerGraph acceleration to Xnnpack.\n",
            "I20230909 21:02:44.642798 923594 hand_gesture_recognizer_graph.cc:249] Custom gesture classifier is not defined.\n"
          ]
        },
        {
          "name": "stdout",
          "output_type": "stream",
          "text": [
            "Done\n"
          ]
        }
      ],
      "source": [
        "# STEP 0: Import the necessary modules.\n",
        "import mediapipe as mp\n",
        "from mediapipe.tasks import python\n",
        "from mediapipe.tasks.python import vision\n",
        "from mediapipe.framework.formats import landmark_pb2\n",
        "import cv2\n",
        "import numpy as np\n",
        "\n",
        "mp_hands = mp.solutions.hands\n",
        "mp_drawing = mp.solutions.drawing_utils\n",
        "mp_drawing_styles = mp.solutions.drawing_styles\n",
        "\n",
        "def display(image, top_gestures, hands_landmarks, handedness):\n",
        "  \"\"\"Displays a batch of images with the gesture category and its score along with the hand landmarks.\"\"\"\n",
        "  annotated_image = image.copy()\n",
        "  ### amount of hands to display \n",
        "  n = len(top_gestures)\n",
        "  ### Display gestures and hand landmarks.\n",
        "  if hands_landmarks and top_gestures:\n",
        "    ### create skeleton and landmark\n",
        "    for hand_landmarks in hands_landmarks:\n",
        "      hand_landmarks_proto = landmark_pb2.NormalizedLandmarkList()\n",
        "      hand_landmarks_proto.landmark.extend([\n",
        "        landmark_pb2.NormalizedLandmark(x=landmark.x, y=landmark.y, z=landmark.z) for landmark in hand_landmarks\n",
        "      ])\n",
        "      ### draw landmark\n",
        "      mp_drawing.draw_landmarks(\n",
        "        annotated_image,\n",
        "        hand_landmarks_proto,\n",
        "        mp_hands.HAND_CONNECTIONS,\n",
        "        mp_drawing_styles.get_default_hand_landmarks_style(),\n",
        "        mp_drawing_styles.get_default_hand_connections_style())\n",
        "      ### draw title\n",
        "      side_d = {}\n",
        "      if handedness:\n",
        "        ### remember which category (left, right is which index in the hand landmar list)\n",
        "        side_d = {c[0].category_name : i for i, c in enumerate(handedness)}\n",
        "        font = cv2.FONT_HERSHEY_SIMPLEX\n",
        "        if \"Left\" in side_d:\n",
        "          titleLeft = f\"L:{top_gestures[side_d['Left']].category_name} ({top_gestures[side_d['Left']].score:.2f})\"\n",
        "          cv2.putText(annotated_image, titleLeft, (10,30), font, 0.7, (0, 255, 0), 2, cv2.LINE_AA)\n",
        "        if \"Right\" in side_d:\n",
        "          titleRight = f\"R:{top_gestures[side_d['Right']].category_name} ({top_gestures[side_d['Right']].score:.2f})\"\n",
        "          cv2.putText(annotated_image, titleRight, (400,30), font, 0.7, (0, 255, 0), 2, cv2.LINE_AA)\n",
        "  cv2.imshow(\"Video\", annotated_image)\n",
        "\n",
        "\n",
        "# STEP 1: camera input\n",
        "# cap = cv2.VideoCapture(0)\n",
        "cap = cv2.VideoCapture(0) # this is the magic!\n",
        "cap.set(cv2.CAP_PROP_FRAME_WIDTH, 1920)\n",
        "cap.set(cv2.CAP_PROP_FRAME_HEIGHT, 1080)\n",
        "# STEP 2: Create an GestureRecognizer object.\n",
        "base_options = python.BaseOptions(model_asset_path='gesture_recognizer.task')\n",
        "options = vision.GestureRecognizerOptions(base_options=base_options, \n",
        "                                          num_hands=2,\n",
        "                                          min_hand_detection_confidence=0.1,\n",
        "                                          min_hand_presence_confidence=0.1,\n",
        "                                          min_tracking_confidence=0.1,\n",
        ")\n",
        "recognizer = vision.GestureRecognizer.create_from_options(options)\n",
        "\n",
        "while cap.isOpened():\n",
        "  # STEP 3: Load the input image.\n",
        "  success, image = cap.read()\n",
        "  if success:\n",
        "    ### flip image, so that hand sides are correct\n",
        "    image = cv2.flip(image, 1)\n",
        "    mpImage = mp.Image(image_format=mp.ImageFormat.SRGB, data=image) ### numpy image to mpImage\n",
        "    # STEP 4: Recognize gestures in the input image.\n",
        "    recognition_result = recognizer.recognize(mpImage)\n",
        "    # # STEP 5: Process the result. In this case, visualize it.\n",
        "    top_gestures = []\n",
        "    hands_landmarks = None\n",
        "    if recognition_result.gestures and recognition_result.hand_landmarks:\n",
        "      for top in recognition_result.gestures:\n",
        "        top_gestures.append(top[0])\n",
        "      hands_landmarks = recognition_result.hand_landmarks\n",
        "    display(mpImage.numpy_view(), top_gestures, hands_landmarks, recognition_result.handedness) ##mpImage back to numpy image\n",
        "    res = cv2.waitKey(1)\n",
        "    if res != -1:\n",
        "      break\n",
        "cv2.destroyAllWindows()\n",
        "cap.release()\n",
        "print(\"Done\")\n"
      ]
    },
    {
      "cell_type": "markdown",
      "metadata": {},
      "source": [
        "## Video stream hands detection using video api"
      ]
    },
    {
      "cell_type": "code",
      "execution_count": 19,
      "metadata": {},
      "outputs": [
        {
          "name": "stderr",
          "output_type": "stream",
          "text": [
            "W20230909 21:12:08.126014 923594 gesture_recognizer_graph.cc:128] Hand Gesture Recognizer contains CPU only ops. Sets HandGestureRecognizerGraph acceleration to Xnnpack.\n",
            "I20230909 21:12:08.128481 923594 hand_gesture_recognizer_graph.cc:249] Custom gesture classifier is not defined.\n"
          ]
        },
        {
          "name": "stdout",
          "output_type": "stream",
          "text": [
            "Done\n"
          ]
        }
      ],
      "source": [
        "# STEP 0: Import the necessary modules.\n",
        "import mediapipe as mp\n",
        "from mediapipe.tasks import python\n",
        "from mediapipe.tasks.python import vision\n",
        "from mediapipe.framework.formats import landmark_pb2\n",
        "import cv2\n",
        "import numpy as np\n",
        "\n",
        "class GestureRecognizer:\n",
        "  def __init__(self):\n",
        "      self.mp_hands = mp.solutions.hands\n",
        "      self.mp_drawing = mp.solutions.drawing_utils\n",
        "      self.mp_drawing_styles = mp.solutions.drawing_styles\n",
        "      self.stamp = 0\n",
        "      # STEP 2: Create an GestureRecognizer object.\n",
        "      VisionRunningMode = mp.tasks.vision.RunningMode\n",
        "      base_options = python.BaseOptions(model_asset_path='gesture_recognizer.task')\n",
        "      options = vision.GestureRecognizerOptions(base_options=base_options, \n",
        "                                                running_mode=VisionRunningMode.LIVE_STREAM,\n",
        "                                                num_hands=2,\n",
        "                                                min_hand_detection_confidence=0.1,\n",
        "                                                min_hand_presence_confidence=0.8,\n",
        "                                                min_tracking_confidence=0.1,\n",
        "                                                result_callback=self.process_frame\n",
        "      )\n",
        "      self.recognizer = vision.GestureRecognizer.create_from_options(options)\n",
        "      self.results = None\n",
        "\n",
        "  def process_frame(self, result: vision.GestureRecognizerResult, output_image: mp.Image, timestamp_ms: int):\n",
        "    self.results = result\n",
        "\n",
        "  def update(self, image):\n",
        "    ### flip image, so that hand sides are correct\n",
        "    image = cv2.flip(image, 1)\n",
        "    ### crop image to nearest side, so that it gets rectangular and the focus is tn the middle of the image\n",
        "    cropped = cropToSmallestSide(image)\n",
        "    # zoomed = zoom_at(cropped, 1.5)\n",
        "    # filtered = cv2.GaussianBlur(zoomed,(5,5),0)\n",
        "    mpImage = mp.Image(image_format=mp.ImageFormat.SRGB, data=cropped) ### numpy image to mpImage\n",
        "    # recognize gestures in the input image.\n",
        "    self.recognizer.recognize_async(mpImage, self.stamp)\n",
        "    ### calculate time\n",
        "    self.stamp = self.stamp + 1\n",
        "    # process the result. In this case, visualize it.\n",
        "    top_gestures = []\n",
        "    hands_landmarks = None\n",
        "    handedness = None\n",
        "    if self.results:\n",
        "      # if recognition_result.gestures and recognition_result.hand_landmarks:\n",
        "      for top in self.results.gestures:\n",
        "        top_gestures.append(top[0])\n",
        "      hands_landmarks = self.results.hand_landmarks\n",
        "      handedness = self.results.handedness\n",
        "    resultImage = self.draw(mpImage.numpy_view(), top_gestures, hands_landmarks, handedness) ##mpImage back to numpy image\n",
        "    return resultImage\n",
        "    \n",
        "  def draw(self, image, top_gestures, hands_landmarks, handedness):\n",
        "    annotated_image = image.copy()\n",
        "    ### amount of hands to display \n",
        "    n = len(top_gestures)\n",
        "    ### Display gestures and hand landmarks.\n",
        "    if hands_landmarks and top_gestures:\n",
        "      ### create skeleton and landmark\n",
        "      for hand_landmarks in hands_landmarks:\n",
        "        hand_landmarks_proto = landmark_pb2.NormalizedLandmarkList()\n",
        "        hand_landmarks_proto.landmark.extend([\n",
        "          landmark_pb2.NormalizedLandmark(x=landmark.x, y=landmark.y, z=landmark.z) for landmark in hand_landmarks\n",
        "        ])\n",
        "        ### draw landmark\n",
        "        self.mp_drawing.draw_landmarks(\n",
        "          annotated_image,\n",
        "          hand_landmarks_proto,\n",
        "          self.mp_hands.HAND_CONNECTIONS,\n",
        "          self.mp_drawing_styles.get_default_hand_landmarks_style(),\n",
        "          self.mp_drawing_styles.get_default_hand_connections_style())\n",
        "        ### draw title\n",
        "        side_d = {}\n",
        "        if handedness:\n",
        "          ### remember which category (left, right is which index in the hand landmar list)\n",
        "          side_d = {c[0].category_name : i for i, c in enumerate(handedness)}\n",
        "          font = cv2.FONT_HERSHEY_SIMPLEX\n",
        "          if \"Left\" in side_d:\n",
        "            titleLeft = f\"L:{top_gestures[side_d['Left']].category_name} ({top_gestures[side_d['Left']].score:.2f})\"\n",
        "            cv2.putText(annotated_image, titleLeft, (10,30), font, 0.7, (0, 255, 0), 2, cv2.LINE_AA)\n",
        "          if \"Right\" in side_d:\n",
        "            titleRight = f\"R:{top_gestures[side_d['Right']].category_name} ({top_gestures[side_d['Right']].score:.2f})\"\n",
        "            cv2.putText(annotated_image, titleRight, (400,30), font, 0.7, (0, 255, 0), 2, cv2.LINE_AA)\n",
        "    return annotated_image\n",
        "\n",
        "###\n",
        "### main\n",
        "cap = cv2.VideoCapture(0)\n",
        "cap.set(cv2.CAP_PROP_FRAME_WIDTH, 1280)\n",
        "cap.set(cv2.CAP_PROP_FRAME_HEIGHT, 720)\n",
        "cap.set(cv2.CAP_PROP_FPS, 20)\n",
        "fps = 20\n",
        "### instantiate gesture recognizer\n",
        "r = GestureRecognizer()\n",
        "### read images from camera and feed into recognizer class\n",
        "while cap.isOpened():\n",
        "  success, image = cap.read()\n",
        "  if success:\n",
        "    resultImage = r.update(image)\n",
        "    cv2.imshow(\"Video\", resultImage)\n",
        "  ### exit condition is random keypress\n",
        "  if cv2.waitKey(1) != -1:\n",
        "    break\n",
        "cv2.destroyAllWindows()\n",
        "cap.release()\n",
        "print(\"Done\")\n"
      ]
    },
    {
      "cell_type": "markdown",
      "metadata": {},
      "source": [
        "## human pose detector"
      ]
    },
    {
      "cell_type": "code",
      "execution_count": 15,
      "metadata": {},
      "outputs": [
        {
          "name": "stdout",
          "output_type": "stream",
          "text": [
            "Done\n"
          ]
        }
      ],
      "source": [
        "import mediapipe as mp\n",
        "from mediapipe.tasks import python\n",
        "from mediapipe.tasks.python import vision\n",
        "from mediapipe import solutions\n",
        "from mediapipe.framework.formats import landmark_pb2\n",
        "import numpy as np\n",
        "import cv2\n",
        "\n",
        "class HumanPoseDetector:\n",
        "  def __init__(self):\n",
        "    self.stamp = 0\n",
        "    ### create an PoseLandmarker object.\n",
        "    VisionRunningMode = mp.tasks.vision.RunningMode\n",
        "    base_options = python.BaseOptions(model_asset_path='pose_landmarker.task')\n",
        "    options = vision.PoseLandmarkerOptions(\n",
        "        base_options=base_options,\n",
        "        running_mode=VisionRunningMode.LIVE_STREAM,\n",
        "        output_segmentation_masks=True,\n",
        "        result_callback=self.process_frame\n",
        "    )\n",
        "    self.detector = vision.PoseLandmarker.create_from_options(options)\n",
        "    self.results = None\n",
        "\n",
        "  def process_frame(self, result: vision.PoseLandmarkerResult, output_image: mp.Image, timestamp_ms: int):\n",
        "    self.results = result\n",
        "\n",
        "  def update(self, image):\n",
        "    mpImage = mp.Image(image_format=mp.ImageFormat.SRGB, data=image) ### numpy image to mpImage\n",
        "    # detect poses in the input image.\n",
        "    self.detector.detect_async(mpImage, self.stamp)\n",
        "    # ### calculate time\n",
        "    self.stamp = self.stamp + 1\n",
        "    # process the result. In this case, visualize it.\n",
        "    pose_landmarks = None\n",
        "    resultImage = self.draw(mpImage.numpy_view(), self.results) ##mpImage back to numpy image\n",
        "    maskImage = self.createMask(mpImage.numpy_view(), self.results)\n",
        "    return resultImage, maskImage\n",
        "    \n",
        "  def draw(self, image, detection_result):\n",
        "    annotated_image = image.copy()\n",
        "    # Loop through the detected poses to visualize.\n",
        "    if detection_result:\n",
        "      pose_landmarks_list = detection_result.pose_landmarks\n",
        "      for idx in range(len(pose_landmarks_list)):\n",
        "        pose_landmarks = pose_landmarks_list[idx]\n",
        "        # Draw the pose landmarks.\n",
        "        pose_landmarks_proto = landmark_pb2.NormalizedLandmarkList()\n",
        "        pose_landmarks_proto.landmark.extend([\n",
        "          landmark_pb2.NormalizedLandmark(x=landmark.x, y=landmark.y, z=landmark.z) for landmark in pose_landmarks\n",
        "        ])\n",
        "        solutions.drawing_utils.draw_landmarks(\n",
        "          annotated_image,\n",
        "          pose_landmarks_proto,\n",
        "          solutions.pose.POSE_CONNECTIONS,\n",
        "          solutions.drawing_styles.get_default_pose_landmarks_style())\n",
        "    return annotated_image\n",
        "  \n",
        "  def createMask(self, image, detection_result):\n",
        "    visualized_mask = image.copy()\n",
        "    ### if detection exists, create propr mask image\n",
        "    try:\n",
        "      segmentation_mask = detection_result.segmentation_masks[0].numpy_view()\n",
        "      visualized_mask = cv2.convertScaleAbs(segmentation_mask, alpha=1.00)\n",
        "      ### inflate mask\n",
        "      kernel = np.ones((25,25),np.uint8)\n",
        "      visualized_mask = cv2.dilate(visualized_mask, kernel, iterations=5)\n",
        "    ### else, create a white image based on the input image\n",
        "    except:\n",
        "      img_h, img_w, cannel = image.shape\n",
        "      visualized_mask = np.zeros((img_h, img_w), dtype=np.uint8)\n",
        "      visualized_mask[:] = 255\n",
        "    return visualized_mask\n",
        "#############################\n",
        "\n",
        "cap = cv2.VideoCapture(0)\n",
        "# cap.set(cv2.CAP_PROP_FRAME_WIDTH, 1920)\n",
        "# cap.set(cv2.CAP_PROP_FRAME_HEIGHT, 1080)\n",
        "cap.set(cv2.CAP_PROP_FRAME_WIDTH, 1280)\n",
        "cap.set(cv2.CAP_PROP_FRAME_HEIGHT, 720)\n",
        "cap.set(cv2.CAP_PROP_FPS, 20)\n",
        "fps = 20\n",
        "### instantiate gesture recognizer\n",
        "d = HumanPoseDetector()\n",
        "### read images from camera and feed into recognizer class\n",
        "while cap.isOpened():\n",
        "  success, image = cap.read()\n",
        "  if success:\n",
        "    human, mask = d.update(image)\n",
        "    result=human\n",
        "    # result = cv2.bitwise_and(human, human, mask=mask)\n",
        "    ### for some reason, some cv2 operations flip the colors, so we flip the back\n",
        "    result  = result[:, :, ::-1]\n",
        "    cv2.imshow(\"ResultMasked\", result)\n",
        "  ### exit condition is random keypress\n",
        "  if cv2.waitKey(1) != -1:\n",
        "    break\n",
        "cv2.destroyAllWindows()\n",
        "cap.release()\n",
        "print(\"Done\")\n"
      ]
    },
    {
      "cell_type": "markdown",
      "metadata": {},
      "source": [
        "## combine pose detection with gesture detection"
      ]
    },
    {
      "cell_type": "code",
      "execution_count": 17,
      "metadata": {},
      "outputs": [
        {
          "name": "stderr",
          "output_type": "stream",
          "text": [
            "W20230909 21:11:21.427286 923594 gesture_recognizer_graph.cc:128] Hand Gesture Recognizer contains CPU only ops. Sets HandGestureRecognizerGraph acceleration to Xnnpack.\n",
            "I20230909 21:11:21.430549 923594 hand_gesture_recognizer_graph.cc:249] Custom gesture classifier is not defined.\n"
          ]
        },
        {
          "name": "stdout",
          "output_type": "stream",
          "text": [
            "Done\n"
          ]
        }
      ],
      "source": [
        "cap = cv2.VideoCapture(0)\n",
        "# cap.set(cv2.CAP_PROP_FRAME_WIDTH, 1920)\n",
        "# cap.set(cv2.CAP_PROP_FRAME_HEIGHT, 1080)\n",
        "cap.set(cv2.CAP_PROP_FRAME_WIDTH, 1280)\n",
        "cap.set(cv2.CAP_PROP_FRAME_HEIGHT, 720)\n",
        "cap.set(cv2.CAP_PROP_FPS, 20)\n",
        "fps = 20\n",
        "### instantiate gesture recognizer\n",
        "r = GestureRecognizer()\n",
        "d = HumanPoseDetector()\n",
        "### read images from camera and feed into recognizer class\n",
        "while cap.isOpened():\n",
        "  success, image = cap.read()\n",
        "  if success:\n",
        "    ### crop image to nearest side, so that it gets rectangular and the focus is tn the middle of the image\n",
        "    cropped = cropToSmallestSide(image)\n",
        "    # zoomed = zoom_at(cropped, 1.7) #1.3\n",
        "    # filtered = cv2.GaussianBlur(zoomed,(5,5),0)\n",
        "    human, mask = d.update(cropped)\n",
        "    ### use the masked image to mask out everything except for the human body\n",
        "    # maskedHuman = cv2.bitwise_and(human, human, mask=mask)\n",
        "    # resultImage = r.update(maskedHuman)\n",
        "    ### or use the normal one without masking\n",
        "    resultImage = r.update(human)\n",
        "    ### show result\n",
        "    cv2.imshow(\"Video\", resultImage)\n",
        "  ### exit condition is random keypress\n",
        "  if cv2.waitKey(1) != -1:\n",
        "    break\n",
        "cv2.destroyAllWindows()\n",
        "cap.release()\n",
        "print(\"Done\")"
      ]
    },
    {
      "cell_type": "code",
      "execution_count": null,
      "metadata": {},
      "outputs": [],
      "source": []
    }
  ],
  "metadata": {
    "colab": {
      "provenance": []
    },
    "kernelspec": {
      "display_name": "Python 3 (ipykernel)",
      "language": "python",
      "name": "python3"
    },
    "language_info": {
      "codemirror_mode": {
        "name": "ipython",
        "version": 3
      },
      "file_extension": ".py",
      "mimetype": "text/x-python",
      "name": "python",
      "nbconvert_exporter": "python",
      "pygments_lexer": "ipython3",
      "version": "3.10.12"
    }
  },
  "nbformat": 4,
  "nbformat_minor": 0
}
