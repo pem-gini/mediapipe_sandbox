{
  "cells": [
    {
      "cell_type": "markdown",
      "metadata": {
        "id": "h2q27gKz1H20"
      },
      "source": [
        "##### Copyright 2023 The MediaPipe Authors. All Rights Reserved."
      ]
    },
    {
      "cell_type": "code",
      "execution_count": 1,
      "metadata": {
        "id": "TUfAcER1oUS6"
      },
      "outputs": [],
      "source": [
        "#@title Licensed under the Apache License, Version 2.0 (the \"License\");\n",
        "# you may not use this file except in compliance with the License.\n",
        "# You may obtain a copy of the License at\n",
        "#\n",
        "# https://www.apache.org/licenses/LICENSE-2.0\n",
        "#\n",
        "# Unless required by applicable law or agreed to in writing, software\n",
        "# distributed under the License is distributed on an \"AS IS\" BASIS,\n",
        "# WITHOUT WARRANTIES OR CONDITIONS OF ANY KIND, either express or implied.\n",
        "# See the License for the specific language governing permissions and\n",
        "# limitations under the License."
      ]
    },
    {
      "cell_type": "markdown",
      "metadata": {
        "id": "L_cQX8dWu4Dv"
      },
      "source": [
        "# Hand Landmarks Detection with MediaPipe Tasks\n",
        "\n",
        "This notebook shows you how to use MediaPipe Tasks Python API to detect hand landmarks from images."
      ]
    },
    {
      "cell_type": "markdown",
      "metadata": {
        "id": "O6PN9FvIx614"
      },
      "source": [
        "## Preparation\n",
        "\n",
        "Let's start with installing MediaPipe."
      ]
    },
    {
      "cell_type": "code",
      "execution_count": 2,
      "metadata": {
        "id": "gxbHBsF-8Y_l"
      },
      "outputs": [],
      "source": [
        "!pip install -q mediapipe==0.10.0"
      ]
    },
    {
      "cell_type": "markdown",
      "metadata": {
        "id": "a49D7h4TVmru"
      },
      "source": [
        "Then download an off-the-shelf model bundle. Check out the [MediaPipe documentation](https://developers.google.com/mediapipe/solutions/vision/hand_landmarker#models) for more information about this model bundle."
      ]
    },
    {
      "cell_type": "code",
      "execution_count": 3,
      "metadata": {
        "id": "OMjuVQiDYJKF"
      },
      "outputs": [],
      "source": [
        "!wget -q https://storage.googleapis.com/mediapipe-models/hand_landmarker/hand_landmarker/float16/1/hand_landmarker.task"
      ]
    },
    {
      "cell_type": "markdown",
      "metadata": {
        "id": "YYKAJ5nDU8-I"
      },
      "source": [
        "## Visualization utilities"
      ]
    },
    {
      "cell_type": "code",
      "execution_count": 13,
      "metadata": {
        "cellView": "form",
        "id": "s3E6NFV-00Qt"
      },
      "outputs": [],
      "source": [
        "#@markdown We implemented some functions to visualize the hand landmark detection results. <br/> Run the following cell to activate the functions.\n",
        "\n",
        "from mediapipe import solutions\n",
        "from mediapipe.framework.formats import landmark_pb2\n",
        "import numpy as np\n",
        "import cv2\n",
        "\n",
        "MARGIN = 10  # pixels\n",
        "FONT_SIZE = 1\n",
        "FONT_THICKNESS = 1\n",
        "HANDEDNESS_TEXT_COLOR = (88, 205, 54) # vibrant green\n",
        "\n",
        "def draw_landmarks_on_image(rgb_image, detection_result):\n",
        "  hand_landmarks_list = detection_result.hand_landmarks\n",
        "  handedness_list = detection_result.handedness\n",
        "  annotated_image = np.copy(rgb_image)\n",
        "\n",
        "  # Loop through the detected hands to visualize.\n",
        "  for idx in range(len(hand_landmarks_list)):\n",
        "    hand_landmarks = hand_landmarks_list[idx]\n",
        "    handedness = handedness_list[idx]\n",
        "\n",
        "    # Draw the hand landmarks.\n",
        "    hand_landmarks_proto = landmark_pb2.NormalizedLandmarkList()\n",
        "    hand_landmarks_proto.landmark.extend([\n",
        "      landmark_pb2.NormalizedLandmark(x=landmark.x, y=landmark.y, z=landmark.z) for landmark in hand_landmarks\n",
        "    ])\n",
        "    solutions.drawing_utils.draw_landmarks(\n",
        "      annotated_image,\n",
        "      hand_landmarks_proto,\n",
        "      solutions.hands.HAND_CONNECTIONS,\n",
        "      solutions.drawing_styles.get_default_hand_landmarks_style(),\n",
        "      solutions.drawing_styles.get_default_hand_connections_style())\n",
        "\n",
        "    # Get the top left corner of the detected hand's bounding box.\n",
        "    height, width, _ = annotated_image.shape\n",
        "    x_coordinates = [landmark.x for landmark in hand_landmarks]\n",
        "    y_coordinates = [landmark.y for landmark in hand_landmarks]\n",
        "    text_x = int(min(x_coordinates) * width)\n",
        "    text_y = int(min(y_coordinates) * height) - MARGIN\n",
        "\n",
        "    # Draw handedness (left or right hand) on the image.\n",
        "    cv2.putText(annotated_image, f\"{handedness[0].category_name}\",\n",
        "                (text_x, text_y), cv2.FONT_HERSHEY_DUPLEX,\n",
        "                FONT_SIZE, HANDEDNESS_TEXT_COLOR, FONT_THICKNESS, cv2.LINE_AA)\n",
        "\n",
        "  return annotated_image"
      ]
    },
    {
      "cell_type": "markdown",
      "metadata": {
        "id": "83PEJNp9yPBU"
      },
      "source": [
        "## Download test image\n",
        "\n",
        "Let's grab a test image that we'll use later. The image is from [Unsplash](https://unsplash.com/photos/mt2fyrdXxzk)."
      ]
    },
    {
      "cell_type": "code",
      "execution_count": 7,
      "metadata": {
        "id": "tzXuqyIBlXer"
      },
      "outputs": [],
      "source": [
        "!wget -q -O image.jpg https://storage.googleapis.com/mediapipe-tasks/hand_landmarker/woman_hands.jpg\n",
        "\n",
        "import cv2\n",
        "\n",
        "img = cv2.imread(\"image.jpg\")\n",
        "cv2.imshow(\"image\", img)\n",
        "cv2.waitKey(0)\n",
        "cv2.destroyAllWindows()\n"
      ]
    },
    {
      "cell_type": "markdown",
      "metadata": {
        "id": "u-skLwMBmMN_"
      },
      "source": [
        "Optionally, you can upload your own image. If you want to do so, uncomment and run the cell below."
      ]
    },
    {
      "cell_type": "code",
      "execution_count": null,
      "metadata": {
        "id": "etBjSdwImQPw"
      },
      "outputs": [],
      "source": [
        "# from google.colab import files\n",
        "# uploaded = files.upload()\n",
        "\n",
        "# for filename in uploaded:\n",
        "#   content = uploaded[filename]\n",
        "#   with open(filename, 'wb') as f:\n",
        "#     f.write(content)\n",
        "\n",
        "# if len(uploaded.keys()):\n",
        "#   IMAGE_FILE = next(iter(uploaded))\n",
        "#   print('Uploaded file:', IMAGE_FILE)"
      ]
    },
    {
      "cell_type": "markdown",
      "metadata": {
        "id": "Iy4r2_ePylIa"
      },
      "source": [
        "## Running inference and visualizing the results\n",
        "\n",
        "Here are the steps to run hand landmark detection using MediaPipe.\n",
        "\n",
        "Check out the [MediaPipe documentation](https://developers.google.com/mediapipe/solutions/vision/hand_landmarker/python) to learn more about configuration options that this solution supports.\n"
      ]
    },
    {
      "cell_type": "code",
      "execution_count": 11,
      "metadata": {
        "id": "_JVO3rvPD4RN"
      },
      "outputs": [],
      "source": [
        "# STEP 1: Import the necessary modules.\n",
        "import mediapipe as mp\n",
        "from mediapipe.tasks import python\n",
        "from mediapipe.tasks.python import vision\n",
        "\n",
        "# STEP 2: Create an HandLandmarker object.\n",
        "base_options = python.BaseOptions(model_asset_path='hand_landmarker.task')\n",
        "options = vision.HandLandmarkerOptions(base_options=base_options,\n",
        "                                       num_hands=2)\n",
        "detector = vision.HandLandmarker.create_from_options(options)\n",
        "\n",
        "# STEP 3: Load the input image.\n",
        "image = mp.Image.create_from_file(\"image.jpg\")\n",
        "\n",
        "# STEP 4: Detect hand landmarks from the input image.\n",
        "detection_result = detector.detect(image)\n",
        "\n",
        "# STEP 5: Process the classification result. In this case, visualize it.\n",
        "annotated_image = draw_landmarks_on_image(image.numpy_view(), detection_result)\n",
        "cv2.imshow(\"image\", cv2.cvtColor(annotated_image, cv2.COLOR_RGB2BGR))\n",
        "cv2.waitKey(0)\n",
        "cv2.destroyAllWindows()\n"
      ]
    },
    {
      "cell_type": "markdown",
      "metadata": {
        "id": "SE6_sPCXaX3g"
      },
      "source": [
        "## bunding box / both ands"
      ]
    },
    {
      "cell_type": "code",
      "execution_count": 12,
      "metadata": {},
      "outputs": [
        {
          "name": "stdout",
          "output_type": "stream",
          "text": [
            "HandLandmarkerResult(handedness=[[Category(index=1, score=0.9357715249061584, display_name='Right', category_name='Right')], [Category(index=0, score=0.9608952403068542, display_name='Left', category_name='Left')]], hand_landmarks=[[NormalizedLandmark(x=0.39291912317276, y=0.7066095471382141, z=-3.293027077688748e-07, visibility=0.0, presence=0.0), NormalizedLandmark(x=0.34312063455581665, y=0.7504479885101318, z=-0.019821790978312492, visibility=0.0, presence=0.0), NormalizedLandmark(x=0.2708950638771057, y=0.7737331986427307, z=-0.027366425842046738, visibility=0.0, presence=0.0), NormalizedLandmark(x=0.20807738602161407, y=0.779670238494873, z=-0.03694787248969078, visibility=0.0, presence=0.0), NormalizedLandmark(x=0.15704940259456635, y=0.7829774022102356, z=-0.04580849036574364, visibility=0.0, presence=0.0), NormalizedLandmark(x=0.2020859718322754, y=0.7279683947563171, z=0.004851780831813812, visibility=0.0, presence=0.0), NormalizedLandmark(x=0.13295286893844604, y=0.743130087852478, z=-0.01850949414074421, visibility=0.0, presence=0.0), NormalizedLandmark(x=0.09457877278327942, y=0.7587484121322632, z=-0.04270356521010399, visibility=0.0, presence=0.0), NormalizedLandmark(x=0.06427456438541412, y=0.7747343182563782, z=-0.05866202712059021, visibility=0.0, presence=0.0), NormalizedLandmark(x=0.19263559579849243, y=0.7007609009742737, z=-3.571662091417238e-05, visibility=0.0, presence=0.0), NormalizedLandmark(x=0.11083298921585083, y=0.7078337669372559, z=-0.018199684098362923, visibility=0.0, presence=0.0), NormalizedLandmark(x=0.05870845913887024, y=0.7205243110656738, z=-0.03833606839179993, visibility=0.0, presence=0.0), NormalizedLandmark(x=0.017638981342315674, y=0.736172080039978, z=-0.053040239959955215, visibility=0.0, presence=0.0), NormalizedLandmark(x=0.19935233891010284, y=0.6770334243774414, z=-0.010820012539625168, visibility=0.0, presence=0.0), NormalizedLandmark(x=0.12269744277000427, y=0.6760034561157227, z=-0.028793808072805405, visibility=0.0, presence=0.0), NormalizedLandmark(x=0.07378162443637848, y=0.6857254505157471, z=-0.04534677416086197, visibility=0.0, presence=0.0), NormalizedLandmark(x=0.03343664109706879, y=0.699320912361145, z=-0.05583665147423744, visibility=0.0, presence=0.0), NormalizedLandmark(x=0.22132857143878937, y=0.654582142829895, z=-0.02450055256485939, visibility=0.0, presence=0.0), NormalizedLandmark(x=0.1608070731163025, y=0.6463568806648254, z=-0.03690389543771744, visibility=0.0, presence=0.0), NormalizedLandmark(x=0.12067575007677078, y=0.6479213833808899, z=-0.045214664191007614, visibility=0.0, presence=0.0), NormalizedLandmark(x=0.08355601876974106, y=0.6550387740135193, z=-0.05129045248031616, visibility=0.0, presence=0.0)], [NormalizedLandmark(x=0.4662620425224304, y=0.40013977885246277, z=2.7611559971774113e-07, visibility=0.0, presence=0.0), NormalizedLandmark(x=0.519073486328125, y=0.44122543931007385, z=-0.020154574885964394, visibility=0.0, presence=0.0), NormalizedLandmark(x=0.5820644497871399, y=0.4617445766925812, z=-0.021230580285191536, visibility=0.0, presence=0.0), NormalizedLandmark(x=0.643897294998169, y=0.45654669404029846, z=-0.022692834958434105, visibility=0.0, presence=0.0), NormalizedLandmark(x=0.6667944192886353, y=0.43280959129333496, z=-0.02487306296825409, visibility=0.0, presence=0.0), NormalizedLandmark(x=0.625401496887207, y=0.4301188290119171, z=0.015087120234966278, visibility=0.0, presence=0.0), NormalizedLandmark(x=0.6751241087913513, y=0.42833831906318665, z=0.003957920707762241, visibility=0.0, presence=0.0), NormalizedLandmark(x=0.7018770575523376, y=0.42428499460220337, z=-0.013588840141892433, visibility=0.0, presence=0.0), NormalizedLandmark(x=0.7248542904853821, y=0.4201323986053467, z=-0.027833469212055206, visibility=0.0, presence=0.0), NormalizedLandmark(x=0.6212813854217529, y=0.403990775346756, z=0.013116266578435898, visibility=0.0, presence=0.0), NormalizedLandmark(x=0.6726646423339844, y=0.3983727693557739, z=0.002355160191655159, visibility=0.0, presence=0.0), NormalizedLandmark(x=0.7058770060539246, y=0.39449942111968994, z=-0.02020472101867199, visibility=0.0, presence=0.0), NormalizedLandmark(x=0.7320601344108582, y=0.38988780975341797, z=-0.03838092461228371, visibility=0.0, presence=0.0), NormalizedLandmark(x=0.6041418313980103, y=0.3799363374710083, z=0.006355364806950092, visibility=0.0, presence=0.0), NormalizedLandmark(x=0.6506683826446533, y=0.37140926718711853, z=-0.008232945576310158, visibility=0.0, presence=0.0), NormalizedLandmark(x=0.6778689622879028, y=0.3689419627189636, z=-0.0282795038074255, visibility=0.0, presence=0.0), NormalizedLandmark(x=0.6980123519897461, y=0.3672705292701721, z=-0.04215899854898453, visibility=0.0, presence=0.0), NormalizedLandmark(x=0.5778369307518005, y=0.3554137945175171, z=-0.0028185213450342417, visibility=0.0, presence=0.0), NormalizedLandmark(x=0.616600751876831, y=0.34632137417793274, z=-0.015847906470298767, visibility=0.0, presence=0.0), NormalizedLandmark(x=0.6417916417121887, y=0.3443954586982727, z=-0.02678474225103855, visibility=0.0, presence=0.0), NormalizedLandmark(x=0.6629310250282288, y=0.34515947103500366, z=-0.03540591895580292, visibility=0.0, presence=0.0)]], hand_world_landmarks=[[Landmark(x=0.08695010840892792, y=0.014125721529126167, z=-0.030945420265197754, visibility=0.0, presence=0.0), Landmark(x=0.06219671666622162, y=0.0336117185652256, z=-0.024821029976010323, visibility=0.0, presence=0.0), Landmark(x=0.039285968989133835, y=0.04240145534276962, z=-0.015133146196603775, visibility=0.0, presence=0.0), Landmark(x=0.004513971507549286, y=0.05077211558818817, z=-0.0006793184438720345, visibility=0.0, presence=0.0), Landmark(x=-0.02517993003129959, y=0.05264487862586975, z=0.015766803175210953, visibility=0.0, presence=0.0), Landmark(x=0.001131899654865265, y=0.022390589118003845, z=0.013610790483653545, visibility=0.0, presence=0.0), Landmark(x=-0.0272340290248394, y=0.026896754279732704, z=0.006937519181519747, visibility=0.0, presence=0.0), Landmark(x=-0.04652127996087074, y=0.03652362897992134, z=-0.003668418852612376, visibility=0.0, presence=0.0), Landmark(x=-0.05694492161273956, y=0.05201280489563942, z=-0.029024122282862663, visibility=0.0, presence=0.0), Landmark(x=-0.003610098734498024, y=0.0030466157477349043, z=0.008609158918261528, visibility=0.0, presence=0.0), Landmark(x=-0.03894229233264923, y=0.001840805634856224, z=0.0023410290013998747, visibility=0.0, presence=0.0), Landmark(x=-0.06441096216440201, y=0.014799458906054497, z=-0.01700848527252674, visibility=0.0, presence=0.0), Landmark(x=-0.08343687653541565, y=0.024360327050089836, z=-0.03257500380277634, visibility=0.0, presence=0.0), Landmark(x=-0.0019205901771783829, y=-0.017173444852232933, z=-0.008144189603626728, visibility=0.0, presence=0.0), Landmark(x=-0.030854452401399612, y=-0.016446268185973167, z=-0.013331315480172634, visibility=0.0, presence=0.0), Landmark(x=-0.0540187694132328, y=-0.008465694263577461, z=-0.026965230703353882, visibility=0.0, presence=0.0), Landmark(x=-0.07265583425760269, y=0.00046926364302635193, z=-0.04309016838669777, visibility=0.0, presence=0.0), Landmark(x=0.007523129228502512, y=-0.022724224254488945, z=-0.02394997514784336, visibility=0.0, presence=0.0), Landmark(x=-0.013015291653573513, y=-0.03088456764817238, z=-0.02349667251110077, visibility=0.0, presence=0.0), Landmark(x=-0.03375067561864853, y=-0.03559602424502373, z=-0.030533546581864357, visibility=0.0, presence=0.0), Landmark(x=-0.051893483847379684, y=-0.027244025841355324, z=-0.04191197082400322, visibility=0.0, presence=0.0)], [Landmark(x=-0.08258777111768723, y=0.0033981502056121826, z=-0.025670146569609642, visibility=0.0, presence=0.0), Landmark(x=-0.05561538413167, y=0.03111676499247551, z=-0.027616260573267937, visibility=0.0, presence=0.0), Landmark(x=-0.021918807178735733, y=0.04991990700364113, z=-0.026401210576295853, visibility=0.0, presence=0.0), Landmark(x=0.01475982740521431, y=0.04835791140794754, z=-0.02248605713248253, visibility=0.0, presence=0.0), Landmark(x=0.03605883568525314, y=0.027963630855083466, z=-0.01267757173627615, visibility=0.0, presence=0.0), Landmark(x=0.009750778786838055, y=0.027205372229218483, z=0.0030527475755661726, visibility=0.0, presence=0.0), Landmark(x=0.03443169593811035, y=0.02645392343401909, z=-0.004186661913990974, visibility=0.0, presence=0.0), Landmark(x=0.05151825398206711, y=0.025760887190699577, z=-0.01119726337492466, visibility=0.0, presence=0.0), Landmark(x=0.05960048362612724, y=0.021290121600031853, z=-0.03915819153189659, visibility=0.0, presence=0.0), Landmark(x=0.005220428109169006, y=0.001766379689797759, z=0.008538593538105488, visibility=0.0, presence=0.0), Landmark(x=0.038324303925037384, y=0.002340288832783699, z=-0.0002610681694932282, visibility=0.0, presence=0.0), Landmark(x=0.05831834673881531, y=0.0007059834897518158, z=-0.01960727758705616, visibility=0.0, presence=0.0), Landmark(x=0.07155460864305496, y=0.0018238648772239685, z=-0.04100021719932556, visibility=0.0, presence=0.0), Landmark(x=-0.0038636885583400726, y=-0.02037045918405056, z=-0.0024046783801168203, visibility=0.0, presence=0.0), Landmark(x=0.02671048417687416, y=-0.020143158733844757, z=-0.009220176376402378, visibility=0.0, presence=0.0), Landmark(x=0.04174460843205452, y=-0.019039815291762352, z=-0.02605503983795643, visibility=0.0, presence=0.0), Landmark(x=0.05293745547533035, y=-0.01686306856572628, z=-0.04256749525666237, visibility=0.0, presence=0.0), Landmark(x=-0.01847192458808422, y=-0.037462662905454636, z=-0.010577626526355743, visibility=0.0, presence=0.0), Landmark(x=0.002998300828039646, y=-0.04196089506149292, z=-0.013018360361456871, visibility=0.0, presence=0.0), Landmark(x=0.022880738601088524, y=-0.04301043972373009, z=-0.021030042320489883, visibility=0.0, presence=0.0), Landmark(x=0.036454539746046066, y=-0.039040785282850266, z=-0.03000437282025814, visibility=0.0, presence=0.0)]])\n"
          ]
        }
      ],
      "source": [
        "print(detection_result)\n"
      ]
    },
    {
      "cell_type": "code",
      "execution_count": null,
      "metadata": {},
      "outputs": [],
      "source": []
    }
  ],
  "metadata": {
    "colab": {
      "collapsed_sections": [
        "h2q27gKz1H20"
      ],
      "provenance": []
    },
    "kernelspec": {
      "display_name": "Python 3 (ipykernel)",
      "language": "python",
      "name": "python3"
    },
    "language_info": {
      "codemirror_mode": {
        "name": "ipython",
        "version": 3
      },
      "file_extension": ".py",
      "mimetype": "text/x-python",
      "name": "python",
      "nbconvert_exporter": "python",
      "pygments_lexer": "ipython3",
      "version": "3.10.12"
    }
  },
  "nbformat": 4,
  "nbformat_minor": 0
}
